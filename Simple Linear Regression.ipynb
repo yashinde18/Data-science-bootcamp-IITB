{
 "cells": [
  {
   "cell_type": "markdown",
   "id": "978add94",
   "metadata": {},
   "source": [
    "# Objective :\n",
    "### The objective is to use linear regression to understand how years of experience impact Salary.\n",
    "### Data: https://github.com/dphi-official/Linear_Regression_Introduction/blob/master/Salary_Data.csv"
   ]
  },
  {
   "cell_type": "code",
   "execution_count": 24,
   "id": "0ea06d56",
   "metadata": {},
   "outputs": [],
   "source": [
    "import pandas as pd\n",
    "import numpy as np\n",
    "import matplotlib.pyplot as plt"
   ]
  },
  {
   "cell_type": "code",
   "execution_count": 25,
   "id": "8edf8cbb",
   "metadata": {},
   "outputs": [
    {
     "data": {
      "text/html": [
       "<div>\n",
       "<style scoped>\n",
       "    .dataframe tbody tr th:only-of-type {\n",
       "        vertical-align: middle;\n",
       "    }\n",
       "\n",
       "    .dataframe tbody tr th {\n",
       "        vertical-align: top;\n",
       "    }\n",
       "\n",
       "    .dataframe thead th {\n",
       "        text-align: right;\n",
       "    }\n",
       "</style>\n",
       "<table border=\"1\" class=\"dataframe\">\n",
       "  <thead>\n",
       "    <tr style=\"text-align: right;\">\n",
       "      <th></th>\n",
       "      <th>YearsExperience</th>\n",
       "      <th>Salary</th>\n",
       "    </tr>\n",
       "  </thead>\n",
       "  <tbody>\n",
       "    <tr>\n",
       "      <th>0</th>\n",
       "      <td>1.1</td>\n",
       "      <td>39343.0</td>\n",
       "    </tr>\n",
       "    <tr>\n",
       "      <th>1</th>\n",
       "      <td>1.3</td>\n",
       "      <td>46205.0</td>\n",
       "    </tr>\n",
       "    <tr>\n",
       "      <th>2</th>\n",
       "      <td>1.5</td>\n",
       "      <td>37731.0</td>\n",
       "    </tr>\n",
       "    <tr>\n",
       "      <th>3</th>\n",
       "      <td>2.0</td>\n",
       "      <td>43525.0</td>\n",
       "    </tr>\n",
       "    <tr>\n",
       "      <th>4</th>\n",
       "      <td>2.2</td>\n",
       "      <td>39891.0</td>\n",
       "    </tr>\n",
       "  </tbody>\n",
       "</table>\n",
       "</div>"
      ],
      "text/plain": [
       "   YearsExperience   Salary\n",
       "0              1.1  39343.0\n",
       "1              1.3  46205.0\n",
       "2              1.5  37731.0\n",
       "3              2.0  43525.0\n",
       "4              2.2  39891.0"
      ]
     },
     "execution_count": 25,
     "metadata": {},
     "output_type": "execute_result"
    }
   ],
   "source": [
    "df = pd.read_csv('https://raw.githubusercontent.com/dphi-official/Linear_Regression_Introduction/master/Salary_Data.csv')\n",
    "df.head()"
   ]
  },
  {
   "cell_type": "markdown",
   "id": "883d048c",
   "metadata": {},
   "source": [
    "### Plotting data"
   ]
  },
  {
   "cell_type": "code",
   "execution_count": 26,
   "id": "84bbf1b2",
   "metadata": {},
   "outputs": [
    {
     "data": {
      "text/plain": [
       "[<matplotlib.lines.Line2D at 0x21871d10880>]"
      ]
     },
     "execution_count": 26,
     "metadata": {},
     "output_type": "execute_result"
    },
    {
     "data": {
      "image/png": "[encoded data removed]",
      "text/plain": [
       "<Figure size 432x288 with 1 Axes>"
      ]
     },
     "metadata": {
      "needs_background": "light"
     },
     "output_type": "display_data"
    }
   ],
   "source": [
    "plt.plot(df.YearsExperience, df.Salary, 'b^')"
   ]
  },
  {
   "cell_type": "markdown",
   "id": "8517ad61",
   "metadata": {},
   "source": [
    "### Setting variables"
   ]
  },
  {
   "cell_type": "code",
   "execution_count": 46,
   "id": "09a2f05d",
   "metadata": {},
   "outputs": [],
   "source": [
    "X = df.YearsExperience\n",
    "y = df.Salary"
   ]
  },
  {
   "cell_type": "markdown",
   "id": "82b1b0ed",
   "metadata": {},
   "source": [
    "### Splitting dataset into train and test set"
   ]
  },
  {
   "cell_type": "code",
   "execution_count": 47,
   "id": "9f834869",
   "metadata": {},
   "outputs": [],
   "source": [
    "from sklearn.model_selection import train_test_split\n",
    "X_train, X_test, y_train, y_test = train_test_split(X, y , test_size = 0.2, random_state = 2)"
   ]
  },
  {
   "cell_type": "markdown",
   "id": "4f8cfa7c",
   "metadata": {},
   "source": [
    "### Converting 1D array to 2D array"
   ]
  },
  {
   "cell_type": "code",
   "execution_count": 48,
   "id": "58b51d27",
   "metadata": {
    "scrolled": true
   },
   "outputs": [],
   "source": [
    "# We need to give both the fit and predict methods 2D arrays. Our x_train and x_test are currently only 1 dimensional.\n",
    "# This uses numpy's reshape to transform your array.\n",
    "# For example, x = [1, 2, 3] wopuld be transformed to a matrix x' = [[1], [2], [3]]\n",
    "# (-1 gives the x dimension of the matrix, inferred from the length of the array and remaining dimensions,\n",
    "# 1 is the y dimension - giving us a n x 1 matrix where n is the input length).\n",
    "# No need to reshape the y_train since we want it as 1D array\n",
    "\n",
    "X_train = X_train.values.reshape(-1, 1)\n",
    "X_test = X_test.values.reshape(-1, 1)\n",
    "\n",
    "# This extracts a numpy array with the values of our pandas Series object and then reshapes it to a 2D array.\n",
    "# The reason we need to do this is that pandas Series objects are by design one dimensional."
   ]
  },
  {
   "cell_type": "markdown",
   "id": "c0108ec2",
   "metadata": {},
   "source": [
    "### Training model"
   ]
  },
  {
   "cell_type": "code",
   "execution_count": 49,
   "id": "8c189a8a",
   "metadata": {},
   "outputs": [],
   "source": [
    "from sklearn.linear_model import LinearRegression"
   ]
  },
  {
   "cell_type": "code",
   "execution_count": 50,
   "id": "b05b7b0e",
   "metadata": {},
   "outputs": [
    {
     "data": {
      "text/plain": [
       "LinearRegression()"
      ]
     },
     "execution_count": 50,
     "metadata": {},
     "output_type": "execute_result"
    }
   ],
   "source": [
    "linear_regressor = LinearRegression()\n",
    "linear_regressor.fit(X_train, y_train)"
   ]
  },
  {
   "cell_type": "markdown",
   "id": "d4abb8eb",
   "metadata": {},
   "source": [
    "### Getting co-efficients (b0 & b1)"
   ]
  },
  {
   "cell_type": "code",
   "execution_count": 52,
   "id": "f5f5cbce",
   "metadata": {},
   "outputs": [
    {
     "name": "stdout",
     "output_type": "stream",
     "text": [
      "24393.16915194833\n",
      "[9569.58688543]\n"
     ]
    }
   ],
   "source": [
    "#  y = b1X + b0                      here b0 and b1 are known as hyper-parameters\n",
    "print(linear_regressor.intercept_)   #b0\n",
    "print(linear_regressor.coef_)        #b1"
   ]
  },
  {
   "cell_type": "markdown",
   "id": "364dbb1f",
   "metadata": {},
   "source": [
    "### Making predictions with our model"
   ]
  },
  {
   "cell_type": "code",
   "execution_count": 53,
   "id": "7f166b35",
   "metadata": {},
   "outputs": [],
   "source": [
    "y_pred = linear_regressor.predict(X_test)"
   ]
  },
  {
   "cell_type": "code",
   "execution_count": 54,
   "id": "df2bcf23",
   "metadata": {},
   "outputs": [
    {
     "data": {
      "text/plain": [
       "[<matplotlib.lines.Line2D at 0x218738242b0>]"
      ]
     },
     "execution_count": 54,
     "metadata": {},
     "output_type": "execute_result"
    },
    {
     "data": {
      "image/png": "[encoded data removed]",
      "text/plain": [
       "<Figure size 432x288 with 1 Axes>"
      ]
     },
     "metadata": {
      "needs_background": "light"
     },
     "output_type": "display_data"
    }
   ],
   "source": [
    "plt.plot(X_test, y_test, 'g^')\n",
    "plt.plot(X_test, y_pred, color = 'black')"
   ]
  },
  {
   "cell_type": "markdown",
   "id": "d4cb12fb",
   "metadata": {},
   "source": [
    "### Evaluating Model"
   ]
  },
  {
   "cell_type": "code",
   "execution_count": 57,
   "id": "a51b79d5",
   "metadata": {},
   "outputs": [
    {
     "name": "stdout",
     "output_type": "stream",
     "text": [
      "6802.779572073901\n",
      "56137509.997825585\n",
      "7492.496913434505\n"
     ]
    }
   ],
   "source": [
    "from sklearn import metrics\n",
    "\n",
    "print(metrics.mean_absolute_error(y_test, y_pred))\n",
    "\n",
    "print(metrics.mean_squared_error(y_test, y_pred))\n",
    "\n",
    "print(np.sqrt(metrics.mean_squared_error(y_test, y_pred)))"
   ]
  }
 ],
 "metadata": {
  "kernelspec": {
   "display_name": "Python 3 (ipykernel)",
   "language": "python",
   "name": "python3"
  },
  "language_info": {
   "codemirror_mode": {
    "name": "ipython",
    "version": 3
   },
   "file_extension": ".py",
   "mimetype": "text/x-python",
   "name": "python",
   "nbconvert_exporter": "python",
   "pygments_lexer": "ipython3",
   "version": "3.9.7"
  }
 },
 "nbformat": 4,
 "nbformat_minor": 5
}
